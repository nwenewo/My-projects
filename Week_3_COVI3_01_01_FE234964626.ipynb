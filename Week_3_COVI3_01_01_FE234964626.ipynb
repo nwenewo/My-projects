{
  "nbformat": 4,
  "nbformat_minor": 0,
  "metadata": {
    "colab": {
      "provenance": [],
      "authorship_tag": "ABX9TyOFv9n0dgCw/KIySGjv9HV7",
      "include_colab_link": true
    },
    "kernelspec": {
      "name": "python3",
      "display_name": "Python 3"
    },
    "language_info": {
      "name": "python"
    }
  },
  "cells": [
    {
      "cell_type": "markdown",
      "metadata": {
        "id": "view-in-github",
        "colab_type": "text"
      },
      "source": [
        "<a href=\"https://colab.research.google.com/github/nwenewo/My-projects/blob/main/Week_3_COVI3_01_01_FE234964626.ipynb\" target=\"_parent\"><img src=\"https://colab.research.google.com/assets/colab-badge.svg\" alt=\"Open In Colab\"/></a>"
      ]
    },
    {
      "cell_type": "code",
      "source": [
        "import torch\n",
        "\n",
        "def customperm(a, b, c):\n",
        "\n",
        "    ## A tensor of shape (a, b) with random permutations.\n",
        "    return torch.stack([torch.randperm(c)[:b] for _ in range(a)])\n",
        "\n",
        "# usage\n",
        "tensor = customperm(3, 4, 10)\n",
        "print(tensor)"
      ],
      "metadata": {
        "colab": {
          "base_uri": "https://localhost:8080/"
        },
        "id": "uvUV6zi85ZuN",
        "outputId": "b4d468f2-9984-4037-e371-8d1be13e9409"
      },
      "execution_count": 1,
      "outputs": [
        {
          "output_type": "stream",
          "name": "stdout",
          "text": [
            "tensor([[2, 5, 3, 9],\n",
            "        [8, 4, 9, 5],\n",
            "        [6, 9, 5, 0]])\n"
          ]
        }
      ]
    },
    {
      "cell_type": "code",
      "source": [
        "customperm(3,4,20)"
      ],
      "metadata": {
        "colab": {
          "base_uri": "https://localhost:8080/"
        },
        "id": "iXOIlNqlINPp",
        "outputId": "883d455c-99cf-4bae-9b40-f5c905a9a240"
      },
      "execution_count": 3,
      "outputs": [
        {
          "output_type": "execute_result",
          "data": {
            "text/plain": [
              "tensor([[18,  1, 13, 19],\n",
              "        [ 0,  8, 18,  4],\n",
              "        [18, 10,  1,  2]])"
            ]
          },
          "metadata": {},
          "execution_count": 3
        }
      ]
    }
  ]
}